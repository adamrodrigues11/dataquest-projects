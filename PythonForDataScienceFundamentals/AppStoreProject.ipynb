{
 "cells": [
  {
   "cell_type": "markdown",
   "metadata": {},
   "source": [
    "# Profitable App Profiles for the App Store and Google Play Markets"
   ]
  },
  {
   "cell_type": "markdown",
   "metadata": {},
   "source": [
    "This is a role-play project, with the goal of learning how to view, clean, and analyze some simple csv datasets and generate some interesting preliminary analysis.\n",
    "\n",
    "**My role:** A data analyst working for a company that develops freely distributed mobile apps for Android and iOS. \n",
    "\n",
    "**Goal:** Analyze public datasets containing data from the App Store and Google Play to help developers learn about what types of apps attract the most users. This data will help drive the company's app designs to attract more users, and hence advertising revenue."
   ]
  },
  {
   "cell_type": "markdown",
   "metadata": {},
   "source": [
    "## Data"
   ]
  },
  {
   "cell_type": "markdown",
   "metadata": {},
   "source": [
    "Rather than retrieving data from over 4 million apps from both the App Store and Google Play combined, we have chosen to sample the full population of apps in each by using smaller public datasets available online.\n",
    "\n",
    "**App Store:** Approximately 7,000 iOS apps sampled in July 2017. Data can be downloaded [here](https://dq-content.s3.amazonaws.com/350/AppleStore.csv).\n",
    "\n",
    "**Google Play:** Approximately 10,000 Android apps sampled in August 2018. Data can be downloaded [here](https://dq-content.s3.amazonaws.com/350/googleplaystore.csv).\n",
    "\n",
    "Let's open and explore the datasets:"
   ]
  },
  {
   "cell_type": "code",
   "execution_count": 1,
   "metadata": {},
   "outputs": [],
   "source": [
    "def open_dataset(file_name, header=True):\n",
    "    \"\"\"Opens a csv file found at a relative path file_name and returns it as a list of lists.\n",
    "       If a header row exists, returns a tuple containing the header row and the dataset.\n",
    "       \n",
    "       Parameters:\n",
    "       file_name: non-empty string; the relative path of the csv file.\n",
    "       header: boolean; set to True by default to indicate that the csv file contains a header row\n",
    "       \n",
    "       Returns:\n",
    "       if header is True: tuple of lists\n",
    "       if header is False: list\n",
    "    \"\"\"\n",
    "    opened_file = open(file_name)\n",
    "    from csv import reader\n",
    "    read_file = reader(opened_file)\n",
    "    data = list(read_file)\n",
    "    \n",
    "    if header:\n",
    "        return data[0], data[1:]\n",
    "    else:\n",
    "        return data"
   ]
  },
  {
   "cell_type": "code",
   "execution_count": 2,
   "metadata": {},
   "outputs": [],
   "source": [
    "def explore_data(dataset, start, end, rows_and_columns=False):\n",
    "    \"\"\"Used to visualize a subsection of dataset. Slices dataset and prints the rows in the slice.\n",
    "       There is also an option to print the number of rows and columns in the full dataset.\n",
    "       \n",
    "       Parameters:\n",
    "       dataset: non-empty list of non-empty lists; the input data to be explored, with no header row\n",
    "       start: int >= 0; the index of the first element of the slice\n",
    "       end: int > start; the index of the last element of the slice + 1\n",
    "       rows_and_columns: boolean; optional parameter; if True, explore_data() will also print number of rows and columns in the full dataset\n",
    "       \n",
    "       Returns:\n",
    "       None\n",
    "    \"\"\"\n",
    "    \n",
    "    data_slice = dataset[start:end]\n",
    "    \n",
    "    for row in data_slice:\n",
    "        print(row)\n",
    "        print('\\n')\n",
    "    \n",
    "    if rows_and_columns:\n",
    "        print('Number of rows:', len(dataset))\n",
    "        print('Number of columns:', len(dataset[0]))\n",
    "    "
   ]
  },
  {
   "cell_type": "code",
   "execution_count": 3,
   "metadata": {},
   "outputs": [
    {
     "name": "stdout",
     "output_type": "stream",
     "text": [
      "App Store:\n",
      "['id', 'track_name', 'size_bytes', 'currency', 'price', 'rating_count_tot', 'rating_count_ver', 'user_rating', 'user_rating_ver', 'ver', 'cont_rating', 'prime_genre', 'sup_devices.num', 'ipadSc_urls.num', 'lang.num', 'vpp_lic']\n",
      "\n",
      "\n",
      "['284882215', 'Facebook', '389879808', 'USD', '0.0', '2974676', '212', '3.5', '3.5', '95.0', '4+', 'Social Networking', '37', '1', '29', '1']\n",
      "\n",
      "\n",
      "['389801252', 'Instagram', '113954816', 'USD', '0.0', '2161558', '1289', '4.5', '4.0', '10.23', '12+', 'Photo & Video', '37', '0', '29', '1']\n",
      "\n",
      "\n",
      "['529479190', 'Clash of Clans', '116476928', 'USD', '0.0', '2130805', '579', '4.5', '4.5', '9.24.12', '9+', 'Games', '38', '5', '18', '1']\n",
      "\n",
      "\n",
      "Number of rows: 7197\n",
      "Number of columns: 16\n",
      "\n",
      "\n",
      "Google Play:\n",
      "['App', 'Category', 'Rating', 'Reviews', 'Size', 'Installs', 'Type', 'Price', 'Content Rating', 'Genres', 'Last Updated', 'Current Ver', 'Android Ver']\n",
      "\n",
      "\n",
      "['Photo Editor & Candy Camera & Grid & ScrapBook', 'ART_AND_DESIGN', '4.1', '159', '19M', '10,000+', 'Free', '0', 'Everyone', 'Art & Design', 'January 7, 2018', '1.0.0', '4.0.3 and up']\n",
      "\n",
      "\n",
      "['Coloring book moana', 'ART_AND_DESIGN', '3.9', '967', '14M', '500,000+', 'Free', '0', 'Everyone', 'Art & Design;Pretend Play', 'January 15, 2018', '2.0.0', '4.0.3 and up']\n",
      "\n",
      "\n",
      "['U Launcher Lite – FREE Live Cool Themes, Hide Apps', 'ART_AND_DESIGN', '4.7', '87510', '8.7M', '5,000,000+', 'Free', '0', 'Everyone', 'Art & Design', 'August 1, 2018', '1.2.4', '4.0.3 and up']\n",
      "\n",
      "\n",
      "Number of rows: 10841\n",
      "Number of columns: 13\n"
     ]
    }
   ],
   "source": [
    "# App Store\n",
    "iOS_header, iOS_data = open_dataset('AppleStore.csv')\n",
    "\n",
    "print('App Store:')\n",
    "print(iOS_header)\n",
    "print('\\n')\n",
    "explore_data(iOS_data, 0, 3, rows_and_columns=True) # View the first 3 rows fo the dataset\n",
    "print('\\n')\n",
    "\n",
    "# Google Play\n",
    "android_header, android_data = open_dataset('googleplaystore.csv')\n",
    "\n",
    "print('Google Play:')\n",
    "print(android_header)\n",
    "print('\\n')\n",
    "explore_data(android_data, 0, 3, rows_and_columns=True)"
   ]
  },
  {
   "cell_type": "markdown",
   "metadata": {},
   "source": [
    "As seen above, the columns in the Google Play dataset are named fairly intuitively, however the App Store dataset has less intuitive naming strucutres. \n",
    "\n",
    "To better explain the columns in the App Store data, I have included the following table for reference:\n",
    "\n",
    "| **Column Name**   | **Description**                              |\n",
    "|:------------------|:---------------------------------------------|\n",
    "| \"id\"              | App ID                                       |\n",
    "| \"track_name\"      | App Name                                     |\n",
    "| \"size_bytes\"      | Size (in Bytes)                              |\n",
    "| \"currency\"        | Currency Type                                |\n",
    "| \"price\"           | Price amount                                 |\n",
    "| \"ratingcounttot\"  | User rating counts (for all versions)        |\n",
    "| \"ratingcountver\"  | User rating counts (for current version)     |\n",
    "| \"user_rating\"     | Mean user rating value (for all versions)    |\n",
    "| \"userratingver\"   | Mean user rating value (for current version) |\n",
    "| \"ver\"             | Latest version code                          |\n",
    "| \"cont_rating\"     | Content Rating                               |\n",
    "| \"prime_genre\"     | Primary Genre                                |\n",
    "| \"sup_devices.num\" | Number of supporting devices                 |\n",
    "| \"ipadSc_urls.num\" | Number of screenshots showed for display     |\n",
    "| \"lang.num\"        | Number of supported languages                |\n",
    "| \"vpp_lic\"         | Vpp device based licensing enabled           |"
   ]
  },
  {
   "cell_type": "markdown",
   "metadata": {},
   "source": [
    "### Find and remove incomplete rows"
   ]
  },
  {
   "cell_type": "code",
   "execution_count": 4,
   "metadata": {},
   "outputs": [
    {
     "name": "stdout",
     "output_type": "stream",
     "text": [
      "Incomplete rows in App Store data: {}\n",
      "Incomplete rows in Google Play data: {10472: ['Life Made WI-Fi Touchscreen Photo Frame', '1.9', '19', '3.0M', '1,000+', 'Free', '0', 'Everyone', '', 'February 11, 2018', '1.0.19', '4.0 and up']}\n"
     ]
    }
   ],
   "source": [
    "def incomplete_rows(dataset, header):\n",
    "    \"\"\"Find rows in a dataset that do not contain entries for all specificed columns, and also find the row number.\n",
    "       \n",
    "       Parameters:\n",
    "       dataset: non-empty list of non-empty lists; the dataset\n",
    "       header: non-empty list; header row for the dataset\n",
    "       \n",
    "       Returns:\n",
    "       dict; keys are the row numbers, values are the corresponding incomplete rows\n",
    "    \"\"\"\n",
    "    bad_rows = {}\n",
    "\n",
    "    for row in dataset:\n",
    "        if len(row) != len(header):\n",
    "            index = dataset.index(row)\n",
    "            bad_rows[index] = row\n",
    "    \n",
    "    return bad_rows\n",
    "\n",
    "# App Store\n",
    "iOS_incomplete = incomplete_rows(iOS_data, iOS_header)\n",
    "print('Incomplete rows in App Store data:', iOS_incomplete)\n",
    "\n",
    "for key in iOS_incomplete:\n",
    "    del iOS_data[key]\n",
    "\n",
    "# Google Play    \n",
    "android_incomplete = incomplete_rows(android_data, android_header)\n",
    "print('Incomplete rows in Google Play data:', android_incomplete)\n",
    "\n",
    "for key in android_incomplete:\n",
    "    del android_data[key]"
   ]
  },
  {
   "cell_type": "markdown",
   "metadata": {},
   "source": [
    "### Find and count duplicate apps"
   ]
  },
  {
   "cell_type": "code",
   "execution_count": 5,
   "metadata": {},
   "outputs": [
    {
     "name": "stdout",
     "output_type": "stream",
     "text": [
      "Number of unique apps in App Store data: 7195\n",
      "Number of duplicate apps to be removed from App Store data: 2\n",
      "Check: True\n"
     ]
    }
   ],
   "source": [
    "# App Store\n",
    "iOS_unique_apps = [] # initialize a list of names of unique apps (will include the first app of a set of duplicates)\n",
    "iOS_duplicate_apps = {} # initialize a dict of names of duplicate apps\n",
    "\n",
    "for app in iOS_data:\n",
    "    name = app[1]\n",
    "    if name in iOS_duplicate_apps:\n",
    "        iOS_duplicate_apps[name] += 1 # count additional occurances of duplicates\n",
    "    elif name in iOS_unique_apps:\n",
    "        iOS_duplicate_apps[name] = 1 # count first occurance of duplicate\n",
    "    else:\n",
    "        iOS_unique_apps.append(name) # if first occurance of the app, append to list of unique apps\n",
    "\n",
    "iOS_num_of_unique = len(iOS_unique_apps)\n",
    "iOS_num_of_duplicates = sum(iOS_duplicate_apps.values())\n",
    "\n",
    "print('Number of unique apps in App Store data:', iOS_num_of_unique)\n",
    "print('Number of duplicate apps to be removed from App Store data:', iOS_num_of_duplicates)\n",
    "print('Check:', len(iOS_data) == iOS_num_of_unique + iOS_num_of_duplicates)"
   ]
  },
  {
   "cell_type": "code",
   "execution_count": 6,
   "metadata": {},
   "outputs": [
    {
     "name": "stdout",
     "output_type": "stream",
     "text": [
      "Number of unique apps in Google Play data: 9659\n",
      "Number of duplicate apps to be removed from Google Play data: 1181\n",
      "Check: True\n"
     ]
    }
   ],
   "source": [
    "# Google Play\n",
    "android_unique_apps = [] # initialize a list of names of unique apps (will include the first app of a set of duplicates)\n",
    "android_duplicate_apps = {} # initialize a dict of names of duplicate apps\n",
    "\n",
    "for app in android_data:\n",
    "    name = app[0]\n",
    "    if name in android_duplicate_apps:\n",
    "        android_duplicate_apps[name] += 1 # count additional occurances of duplicates\n",
    "    elif name in android_unique_apps:\n",
    "        android_duplicate_apps[name] = 1 # count first occurance of duplicate\n",
    "    else:\n",
    "        android_unique_apps.append(name) # if first occurance of the app, append to list of unique apps\n",
    "\n",
    "android_num_of_unique = len(android_unique_apps)\n",
    "android_num_of_duplicates = sum(android_duplicate_apps.values())\n",
    "\n",
    "print('Number of unique apps in Google Play data:', android_num_of_unique)\n",
    "print('Number of duplicate apps to be removed from Google Play data:', android_num_of_duplicates)\n",
    "print('Check:', len(android_data) == len(android_unique_apps) + android_num_of_duplicates)"
   ]
  },
  {
   "cell_type": "markdown",
   "metadata": {},
   "source": [
    "We have seen that there exists duplicate apps in both datasets, and a significant number in the Google Play dataset."
   ]
  },
  {
   "cell_type": "markdown",
   "metadata": {},
   "source": [
    "### Remove duplicate apps"
   ]
  },
  {
   "cell_type": "markdown",
   "metadata": {},
   "source": [
    "We will remove rows of duplicate apps, but choose to keep the one row of each set of duplicate apps that has the highest number of ratings/reviews (to include maximum rating counts in our later analysis potentially involving rating value).\n",
    "\n",
    "For the App Store data, we will use *ratingcounttot* (the rating count across all versions), and for the Google Play data, we will use *Reviews* which we assume is a cumulative count of app reviews across all versions. Note: for the Google Play data, we also could have chosen to filter based on number of installs; it might be an interesting comparison to take a look at later."
   ]
  },
  {
   "cell_type": "code",
   "execution_count": 7,
   "metadata": {},
   "outputs": [
    {
     "name": "stdout",
     "output_type": "stream",
     "text": [
      "Check: True\n"
     ]
    }
   ],
   "source": [
    "# App Store\n",
    "iOS_reviews_max = {}\n",
    "\n",
    "for app in iOS_data:\n",
    "    name = app[1]\n",
    "    n_reviews = float(app[5]) # ratingcounttot for app\n",
    "    if name in iOS_reviews_max and iOS_reviews_max[name] < n_reviews:\n",
    "        iOS_reviews_max[name] = n_reviews\n",
    "    elif name not in iOS_reviews_max:\n",
    "        iOS_reviews_max[name] = n_reviews\n",
    "\n",
    "iOS_clean = []\n",
    "iOS_already_added = []\n",
    "\n",
    "for app in iOS_data:\n",
    "    name = app[1]\n",
    "    n_reviews = float(app[5]) # ratingcounttot for app\n",
    "    if n_reviews == iOS_reviews_max[name] and name not in iOS_already_added: \n",
    "        # include second condition for the case of duplicates with same rating count\n",
    "        iOS_clean.append(app)\n",
    "        iOS_already_added.append(name)\n",
    "\n",
    "print('Check:', len(iOS_clean) == iOS_num_of_unique) # check the length of the cleaned data set\n"
   ]
  },
  {
   "cell_type": "code",
   "execution_count": 8,
   "metadata": {},
   "outputs": [
    {
     "name": "stdout",
     "output_type": "stream",
     "text": [
      "Check: True\n"
     ]
    }
   ],
   "source": [
    "# Google Play\n",
    "android_reviews_max = {}\n",
    "\n",
    "for app in android_data:\n",
    "    name = app[0]\n",
    "    n_reviews = float(app[3])\n",
    "    if name in android_reviews_max and android_reviews_max[name] < n_reviews:\n",
    "        android_reviews_max[name] = n_reviews\n",
    "    elif name not in android_reviews_max:\n",
    "        android_reviews_max[name] = n_reviews\n",
    "\n",
    "android_clean = []\n",
    "android_already_added = []\n",
    "\n",
    "for app in android_data:\n",
    "    name = app[0]\n",
    "    n_reviews = float(app[3])\n",
    "    if n_reviews == android_reviews_max[name] and name not in android_already_added: \n",
    "        # include second condition for the case of duplicates with same rating count\n",
    "        android_clean.append(app)\n",
    "        android_already_added.append(name)\n",
    "\n",
    "print('Check:', len(android_clean) == android_num_of_unique) # check the length of the cleaned data set"
   ]
  },
  {
   "cell_type": "markdown",
   "metadata": {},
   "source": [
    "### Remove non-English apps"
   ]
  },
  {
   "cell_type": "markdown",
   "metadata": {},
   "source": [
    "Now, our next task will be to remove any apps with non-English names. We do this because our company is only interested in building apps for a target audience of English-speakers. \n",
    "\n",
    "First, we will build and test a function for checking app names for non-English characters. The function will return False (ie. not English) if an app name contains more than 3 non-English characters. This ensures that we will not remove apps that have a few emojis or trademarks, etc."
   ]
  },
  {
   "cell_type": "code",
   "execution_count": 9,
   "metadata": {},
   "outputs": [],
   "source": [
    "def is_English(name):\n",
    "    \"\"\"Check to see whether an app name represents an English app.\n",
    "    \n",
    "       Paramters:\n",
    "       name: non-empty string; the name of the app\n",
    "       \n",
    "       Returns: boolean; True if name contains up to 3 non-English characters, False otherwise\n",
    "    \"\"\"\n",
    "    counter = 0 # initialize the counter of non-English characters\n",
    "    for char in name: \n",
    "        if ord(char) > 127: # test if the character is non-English, and, if so, update counter\n",
    "            counter += 1 \n",
    "            if counter > 3: # only check the counter value if it is updated, return False when it exceeds 3\n",
    "                return False\n",
    "    return True\n",
    "\n",
    "def test_is_English():\n",
    "    english = 'test$$'\n",
    "    also_english = 'test' + chr(200) + chr(300) + chr(400) + '$$' # test a string with 3 non-English characters\n",
    "    not_english = also_english + chr(500) + '!!' # test a string with 4 non-English characters\n",
    "    \n",
    "    assert is_English(english) == True\n",
    "    assert is_English(also_english) == True\n",
    "    assert is_English(not_english) == False\n",
    "    \n",
    "    assert is_English('Docs To Go™ Free Office Suite') == True\n",
    "    assert is_English('Instachat 😜') == True\n",
    "    assert is_English('爱奇艺PPS -《欢乐颂2》电视剧热播') == False\n",
    "\n",
    "test_is_English()\n"
   ]
  },
  {
   "cell_type": "markdown",
   "metadata": {},
   "source": [
    "Now, for each clean dataset, we will filter the English apps (by our criteria):"
   ]
  },
  {
   "cell_type": "code",
   "execution_count": 10,
   "metadata": {},
   "outputs": [
    {
     "name": "stdout",
     "output_type": "stream",
     "text": [
      "Number of English iOS apps: 6181\n",
      "Removed 1014 non-English apps\n"
     ]
    }
   ],
   "source": [
    "# App Store\n",
    "iOS_English = []\n",
    "\n",
    "for app in iOS_clean:\n",
    "    name = app[1]\n",
    "    if is_English(name):\n",
    "        iOS_English.append(app)\n",
    "\n",
    "print('Number of English iOS apps:', len(iOS_English))\n",
    "print('Removed', len(iOS_clean) - len(iOS_English), 'non-English apps')"
   ]
  },
  {
   "cell_type": "code",
   "execution_count": 11,
   "metadata": {},
   "outputs": [
    {
     "name": "stdout",
     "output_type": "stream",
     "text": [
      "Number of English Android apps: 9614\n",
      "Removed 45 non-English apps\n"
     ]
    }
   ],
   "source": [
    "# Google Play\n",
    "android_English = []\n",
    "\n",
    "for app in android_clean:\n",
    "    name = app[0]\n",
    "    if is_English(name):\n",
    "        android_English.append(app)\n",
    "\n",
    "print('Number of English Android apps:', len(android_English))\n",
    "print('Removed', len(android_clean) - len(android_English), 'non-English apps')"
   ]
  },
  {
   "cell_type": "markdown",
   "metadata": {},
   "source": [
    "### Remove non-free apps"
   ]
  },
  {
   "cell_type": "markdown",
   "metadata": {},
   "source": [
    "The last step in our data-cleaning process will be to filter out all the non-free apps, for each dataset. "
   ]
  },
  {
   "cell_type": "code",
   "execution_count": 12,
   "metadata": {
    "scrolled": true
   },
   "outputs": [
    {
     "name": "stdout",
     "output_type": "stream",
     "text": [
      "Number of free iOS apps: 3220\n",
      "Removed 2961 paid apps\n"
     ]
    }
   ],
   "source": [
    "# App Store\n",
    "iOS_free = []\n",
    "\n",
    "for app in iOS_English:\n",
    "    price = float(app[4])\n",
    "    if price == 0.0:\n",
    "        iOS_free.append(app)\n",
    "        \n",
    "print('Number of free iOS apps:', len(iOS_free))\n",
    "print('Removed', len(iOS_English) - len(iOS_free), 'paid apps')"
   ]
  },
  {
   "cell_type": "code",
   "execution_count": 13,
   "metadata": {},
   "outputs": [
    {
     "name": "stdout",
     "output_type": "stream",
     "text": [
      "Number of free Android apps: 8864\n",
      "Removed 750 paid apps\n"
     ]
    }
   ],
   "source": [
    "# Google Play\n",
    "android_free = []\n",
    "\n",
    "for app in android_English:\n",
    "    price = float(app[7].replace('$',''))\n",
    "    if price == 0.0:\n",
    "        android_free.append(app)\n",
    "        \n",
    "print('Number of free Android apps:', len(android_free))\n",
    "print('Removed', len(android_English) - len(android_free), 'paid apps')"
   ]
  },
  {
   "cell_type": "markdown",
   "metadata": {},
   "source": [
    "It was interesting to note that the Google Play dataset had a column 'Type' that had entries 'Free' and 'Paid', as well as a column 'Price'. After checking the results of filtering the anrdoid_English dataset by the data in each of those columns, it was discovered that filtering by 'Type' accidentally removed the free app 'Command & Conquer: Rivals' since it's listed 'Type' was 'NaN', yet its 'Price' was '0'. Thus, we use the *android_free* dataset (ie. filtered by 'Price') for the analysis later on."
   ]
  },
  {
   "cell_type": "code",
   "execution_count": 14,
   "metadata": {},
   "outputs": [
    {
     "name": "stdout",
     "output_type": "stream",
     "text": [
      "Number of free Android apps: 8863\n",
      "Removed 751 paid apps\n",
      "Outlier: [['Command & Conquer: Rivals', 'FAMILY', 'NaN', '0', 'Varies with device', '0', 'NaN', '0', 'Everyone 10+', 'Strategy', 'June 28, 2018', 'Varies with device', 'Varies with device']]\n"
     ]
    }
   ],
   "source": [
    "android_free_by_type = []\n",
    "\n",
    "for app in android_English:\n",
    "    price_type = app[6]\n",
    "    if price_type == 'Free':\n",
    "        android_free_by_type.append(app)\n",
    "  \n",
    "print('Number of free Android apps:', len(android_free_by_type))\n",
    "print('Removed', len(android_English) - len(android_free_by_type), 'paid apps')\n",
    "\n",
    "outlier = []\n",
    "for app in android_free:\n",
    "    if app not in android_free_by_type:\n",
    "        outlier.append(app)\n",
    "print('Outlier:', outlier )"
   ]
  },
  {
   "cell_type": "markdown",
   "metadata": {},
   "source": [
    "## Analysis"
   ]
  },
  {
   "cell_type": "markdown",
   "metadata": {},
   "source": [
    "Now that we have cleaned App Store and Google Play datasets that are filtered to meet our needs, we can begin some analysis. Specfically, we want to look for app profiles that will attract the greatest number of users. As such, our strategy will be to look for correlations between a measurable characteristic of the app (such as genre or content rating) and the number of installs or rating counts (assumed to be proportional to the number of installs). \n",
    "\n",
    "We also want to make sure to look for correlations that are common to both the App Store and Google Play data because our validation strategy for an app idea consists of the following three steps:\n",
    "\n",
    "1. Release a minimal Android version of the app to Google Play\n",
    "2. If the app has good reviews, develop it further\n",
    "3. If, after 6 months, the app is proving to be profitable, we build an iOS version and release it to the App Store\n",
    "\n",
    "Therefore, it is imperative for long term success, that we look for app profiles that are profitable in both markets.\n",
    "\n",
    "We will begin our analysis by examining which app genres/categories have the greatest percentage of free, English apps. Then, we will look at the average number of installs per app in each genre."
   ]
  },
  {
   "cell_type": "markdown",
   "metadata": {},
   "source": [
    "### Examine apps by genre"
   ]
  },
  {
   "cell_type": "code",
   "execution_count": 15,
   "metadata": {},
   "outputs": [],
   "source": [
    "def freq_table(dataset, index):\n",
    "    \"\"\"Builds a frequency table from a dataset, with the entries of the column of interest as bins, and their relative\n",
    "       frequencies expressed as percentages\n",
    "       \n",
    "       Parameters:\n",
    "       dataset: a list of lists; the dataset\n",
    "       index: int >= 0; the index of the column of interest\n",
    "       \n",
    "       Returns: dict; the frequency table with keys as the bins, values as the percentages\n",
    "    \"\"\"\n",
    "    # initialize and build the frequency table\n",
    "    table = {}\n",
    "    for row in dataset:\n",
    "        entry = row[index]\n",
    "        if entry in table:\n",
    "            table[entry] += 1\n",
    "        else:\n",
    "            table[entry] = 1\n",
    "    # convert values to percentages         \n",
    "    total = sum(table.values())\n",
    "    for key in table:\n",
    "        table[key] /= total \n",
    "        table[key] *= 100\n",
    "        table[key] = round(table[key], 2)\n",
    "    return table"
   ]
  },
  {
   "cell_type": "code",
   "execution_count": 16,
   "metadata": {},
   "outputs": [],
   "source": [
    "def display_dict(entry):\n",
    "    \"\"\"Displays a dictionary in descending order of its values.\n",
    "       \n",
    "       Parameters:\n",
    "       table: dict; the dictionary to display\n",
    "       \n",
    "       Returns: None\n",
    "    \"\"\" \n",
    "    display = []\n",
    "    for key in entry:\n",
    "        val_key_as_tuple = (entry[key], key) # reverse order of values and keys in tuple so that we can sort by value\n",
    "        display.append(val_key_as_tuple)\n",
    "    display_sorted = sorted(display, reverse=True) # sort in descending order of values\n",
    "    for item in display_sorted:\n",
    "        print(item[1], \": \", item[0]) # reverse order of printing to print \"key: value\""
   ]
  },
  {
   "cell_type": "code",
   "execution_count": 22,
   "metadata": {},
   "outputs": [
    {
     "name": "stdout",
     "output_type": "stream",
     "text": [
      "Percentage of free (English) apps by \"prime_genre\" column: \n",
      "\n",
      "Games :  58.14\n",
      "Entertainment :  7.89\n",
      "Photo & Video :  4.97\n",
      "Education :  3.66\n",
      "Social Networking :  3.29\n",
      "Shopping :  2.61\n",
      "Utilities :  2.52\n",
      "Sports :  2.14\n",
      "Music :  2.05\n",
      "Health & Fitness :  2.02\n",
      "Productivity :  1.74\n",
      "Lifestyle :  1.58\n",
      "News :  1.34\n",
      "Travel :  1.24\n",
      "Finance :  1.12\n",
      "Weather :  0.87\n",
      "Food & Drink :  0.81\n",
      "Reference :  0.56\n",
      "Business :  0.53\n",
      "Book :  0.43\n",
      "Navigation :  0.19\n",
      "Medical :  0.19\n",
      "Catalogs :  0.12\n"
     ]
    }
   ],
   "source": [
    "# App Store\n",
    "iOS_genre_ft = freq_table(iOS_free, 11)\n",
    "\n",
    "print('Percentage of free (English) apps by \"prime_genre\" column:', '\\n')\n",
    "display_dict(iOS_genre_ft)"
   ]
  },
  {
   "cell_type": "code",
   "execution_count": 23,
   "metadata": {},
   "outputs": [
    {
     "name": "stdout",
     "output_type": "stream",
     "text": [
      "Percentage of free (English) Android apps by \"Category\" column: \n",
      "\n",
      "FAMILY :  18.91\n",
      "GAME :  9.72\n",
      "TOOLS :  8.46\n",
      "BUSINESS :  4.59\n",
      "LIFESTYLE :  3.9\n",
      "PRODUCTIVITY :  3.89\n",
      "FINANCE :  3.7\n",
      "MEDICAL :  3.53\n",
      "SPORTS :  3.4\n",
      "PERSONALIZATION :  3.32\n",
      "COMMUNICATION :  3.24\n",
      "HEALTH_AND_FITNESS :  3.08\n",
      "PHOTOGRAPHY :  2.94\n",
      "NEWS_AND_MAGAZINES :  2.8\n",
      "SOCIAL :  2.66\n",
      "TRAVEL_AND_LOCAL :  2.34\n",
      "SHOPPING :  2.25\n",
      "BOOKS_AND_REFERENCE :  2.14\n",
      "DATING :  1.86\n",
      "VIDEO_PLAYERS :  1.79\n",
      "MAPS_AND_NAVIGATION :  1.4\n",
      "FOOD_AND_DRINK :  1.24\n",
      "EDUCATION :  1.16\n",
      "ENTERTAINMENT :  0.96\n",
      "LIBRARIES_AND_DEMO :  0.94\n",
      "AUTO_AND_VEHICLES :  0.93\n",
      "HOUSE_AND_HOME :  0.82\n",
      "WEATHER :  0.8\n",
      "EVENTS :  0.71\n",
      "PARENTING :  0.65\n",
      "ART_AND_DESIGN :  0.64\n",
      "COMICS :  0.62\n",
      "BEAUTY :  0.6\n",
      "\n",
      "\n",
      "Percentage of free (English) Android apps by \"Genres\" column: \n",
      "\n",
      "Tools :  8.45\n",
      "Entertainment :  6.07\n",
      "Education :  5.35\n",
      "Business :  4.59\n",
      "Productivity :  3.89\n",
      "Lifestyle :  3.89\n",
      "Finance :  3.7\n",
      "Medical :  3.53\n",
      "Sports :  3.46\n",
      "Personalization :  3.32\n",
      "Communication :  3.24\n",
      "Action :  3.1\n",
      "Health & Fitness :  3.08\n",
      "Photography :  2.94\n",
      "News & Magazines :  2.8\n",
      "Social :  2.66\n",
      "Travel & Local :  2.32\n",
      "Shopping :  2.25\n",
      "Books & Reference :  2.14\n",
      "Simulation :  2.04\n",
      "Dating :  1.86\n",
      "Arcade :  1.85\n",
      "Video Players & Editors :  1.77\n",
      "Casual :  1.76\n",
      "Maps & Navigation :  1.4\n",
      "Food & Drink :  1.24\n",
      "Puzzle :  1.13\n",
      "Racing :  0.99\n",
      "Role Playing :  0.94\n",
      "Libraries & Demo :  0.94\n",
      "Auto & Vehicles :  0.93\n",
      "Strategy :  0.91\n",
      "House & Home :  0.82\n",
      "Weather :  0.8\n",
      "Events :  0.71\n",
      "Adventure :  0.68\n",
      "Comics :  0.61\n",
      "Beauty :  0.6\n",
      "Art & Design :  0.6\n",
      "Parenting :  0.5\n",
      "Card :  0.45\n",
      "Casino :  0.43\n",
      "Trivia :  0.42\n",
      "Educational;Education :  0.39\n",
      "Board :  0.38\n",
      "Educational :  0.37\n",
      "Education;Education :  0.34\n",
      "Word :  0.26\n",
      "Casual;Pretend Play :  0.24\n",
      "Music :  0.2\n",
      "Racing;Action & Adventure :  0.17\n",
      "Puzzle;Brain Games :  0.17\n",
      "Entertainment;Music & Video :  0.17\n",
      "Casual;Brain Games :  0.14\n",
      "Casual;Action & Adventure :  0.14\n",
      "Arcade;Action & Adventure :  0.12\n",
      "Action;Action & Adventure :  0.1\n",
      "Educational;Pretend Play :  0.09\n",
      "Simulation;Action & Adventure :  0.08\n",
      "Parenting;Education :  0.08\n",
      "Entertainment;Brain Games :  0.08\n",
      "Board;Brain Games :  0.08\n",
      "Parenting;Music & Video :  0.07\n",
      "Educational;Brain Games :  0.07\n",
      "Casual;Creativity :  0.07\n",
      "Art & Design;Creativity :  0.07\n",
      "Education;Pretend Play :  0.06\n",
      "Role Playing;Pretend Play :  0.05\n",
      "Education;Creativity :  0.05\n",
      "Role Playing;Action & Adventure :  0.03\n",
      "Puzzle;Action & Adventure :  0.03\n",
      "Entertainment;Creativity :  0.03\n",
      "Entertainment;Action & Adventure :  0.03\n",
      "Educational;Creativity :  0.03\n",
      "Educational;Action & Adventure :  0.03\n",
      "Education;Music & Video :  0.03\n",
      "Education;Brain Games :  0.03\n",
      "Education;Action & Adventure :  0.03\n",
      "Adventure;Action & Adventure :  0.03\n",
      "Video Players & Editors;Music & Video :  0.02\n",
      "Sports;Action & Adventure :  0.02\n",
      "Simulation;Pretend Play :  0.02\n",
      "Puzzle;Creativity :  0.02\n",
      "Music;Music & Video :  0.02\n",
      "Entertainment;Pretend Play :  0.02\n",
      "Casual;Education :  0.02\n",
      "Board;Action & Adventure :  0.02\n",
      "Video Players & Editors;Creativity :  0.01\n",
      "Trivia;Education :  0.01\n",
      "Travel & Local;Action & Adventure :  0.01\n",
      "Tools;Education :  0.01\n",
      "Strategy;Education :  0.01\n",
      "Strategy;Creativity :  0.01\n",
      "Strategy;Action & Adventure :  0.01\n",
      "Simulation;Education :  0.01\n",
      "Role Playing;Brain Games :  0.01\n",
      "Racing;Pretend Play :  0.01\n",
      "Puzzle;Education :  0.01\n",
      "Parenting;Brain Games :  0.01\n",
      "Music & Audio;Music & Video :  0.01\n",
      "Lifestyle;Pretend Play :  0.01\n",
      "Lifestyle;Education :  0.01\n",
      "Health & Fitness;Education :  0.01\n",
      "Health & Fitness;Action & Adventure :  0.01\n",
      "Entertainment;Education :  0.01\n",
      "Communication;Creativity :  0.01\n",
      "Comics;Creativity :  0.01\n",
      "Casual;Music & Video :  0.01\n",
      "Card;Action & Adventure :  0.01\n",
      "Books & Reference;Education :  0.01\n",
      "Art & Design;Pretend Play :  0.01\n",
      "Art & Design;Action & Adventure :  0.01\n",
      "Arcade;Pretend Play :  0.01\n",
      "Adventure;Education :  0.01\n"
     ]
    }
   ],
   "source": [
    "# Google Play\n",
    "android_category_ft = freq_table(android_free, 1)\n",
    "android_genres_ft = freq_table(android_free, 9)\n",
    "\n",
    "print('Percentage of free (English) Android apps by \"Category\" column:', '\\n')\n",
    "display_dict(android_category_ft)\n",
    "print('\\n')\n",
    "print('Percentage of free (English) Android apps by \"Genres\" column:', '\\n')\n",
    "display_dict(android_genres_ft)"
   ]
  },
  {
   "cell_type": "markdown",
   "metadata": {},
   "source": [
    "Recall that we are looking for successful app profiles across both the App Store and Google Play markets. From our preliminary analysis, games and entertainment are clearly the most common app genres across both markets, especially when one considers that the majority of the 'Family' category Android apps are games for kids. This *might* indicate a high demand for apps of this genre, but it is also evident that there is a lot of competition within the genre due to high supply of these apps in both markets. "
   ]
  },
  {
   "cell_type": "markdown",
   "metadata": {},
   "source": [
    "### Most popular apps by genre"
   ]
  },
  {
   "cell_type": "markdown",
   "metadata": {},
   "source": [
    "Next, we will want to examine the popularity of apps by genre. We will do this by considering the average number of installs per app by genre. For the App Store data, we will resort to using the the total rating count (*ratingcounttot*) as a proxy for the number of installs since the number of installs per app is not available in the dataset (we assume that the total rating count will be proportional to the total number of installs)."
   ]
  },
  {
   "cell_type": "code",
   "execution_count": 19,
   "metadata": {},
   "outputs": [
    {
     "name": "stdout",
     "output_type": "stream",
     "text": [
      "Average number of ratings per iOS app in each genre: \n",
      "\n",
      "Navigation :  86090\n",
      "Reference :  74942\n",
      "Social Networking :  71548\n",
      "Music :  57327\n",
      "Weather :  52280\n",
      "Book :  39758\n",
      "Food & Drink :  33334\n",
      "Finance :  31468\n",
      "Photo & Video :  28442\n",
      "Travel :  28244\n",
      "Shopping :  26920\n",
      "Health & Fitness :  23298\n",
      "Sports :  23009\n",
      "Games :  22813\n",
      "News :  21248\n",
      "Productivity :  21028\n",
      "Utilities :  18684\n",
      "Lifestyle :  16486\n",
      "Entertainment :  14030\n",
      "Business :  7491\n",
      "Education :  7004\n",
      "Catalogs :  4004\n",
      "Medical :  612\n"
     ]
    }
   ],
   "source": [
    "# App Store\n",
    "avg_per_app_in_prime_genre = {}\n",
    "for genre in iOS_genre_ft:\n",
    "    ratings_total = 0 # variable to store the total number of ratings from all apps in the genre\n",
    "    len_genre = 0 # variable to store the number of apps in the genre\n",
    "    for app in iOS_free:\n",
    "        genre_app = app[11]\n",
    "        if genre_app == genre:\n",
    "            ratings_app = float(app[5])\n",
    "            ratings_total += ratings_app \n",
    "            len_genre += 1\n",
    "    avg_ratings_per_app = round(ratings_total / len_genre) # average ratings per app in the genre\n",
    "    avg_per_app_in_prime_genre[genre] = avg_ratings_per_app\n",
    "\n",
    "print('Average number of ratings per iOS app in each genre:', '\\n')\n",
    "display_dict(avg_per_app_in_prime_genre)"
   ]
  },
  {
   "cell_type": "code",
   "execution_count": 20,
   "metadata": {},
   "outputs": [
    {
     "name": "stdout",
     "output_type": "stream",
     "text": [
      "Average number of installs per Android app in each category (as per the \"Category\" column): \n",
      "\n",
      "COMMUNICATION :  38456119\n",
      "VIDEO_PLAYERS :  24727872\n",
      "SOCIAL :  23253652\n",
      "PHOTOGRAPHY :  17840110\n",
      "PRODUCTIVITY :  16787331\n",
      "GAME :  15588016\n",
      "TRAVEL_AND_LOCAL :  13984078\n",
      "ENTERTAINMENT :  11640706\n",
      "TOOLS :  10801391\n",
      "NEWS_AND_MAGAZINES :  9549178\n",
      "BOOKS_AND_REFERENCE :  8767812\n",
      "SHOPPING :  7036877\n",
      "PERSONALIZATION :  5201483\n",
      "WEATHER :  5074486\n",
      "HEALTH_AND_FITNESS :  4188822\n",
      "MAPS_AND_NAVIGATION :  4056942\n",
      "FAMILY :  3695642\n",
      "SPORTS :  3638640\n",
      "ART_AND_DESIGN :  1986335\n",
      "FOOD_AND_DRINK :  1924898\n",
      "EDUCATION :  1833495\n",
      "BUSINESS :  1712290\n",
      "LIFESTYLE :  1437816\n",
      "FINANCE :  1387692\n",
      "HOUSE_AND_HOME :  1331541\n",
      "DATING :  854029\n",
      "COMICS :  817657\n",
      "AUTO_AND_VEHICLES :  647318\n",
      "LIBRARIES_AND_DEMO :  638504\n",
      "PARENTING :  542604\n",
      "BEAUTY :  513152\n",
      "EVENTS :  253542\n",
      "MEDICAL :  120551\n",
      "\n",
      "\n",
      "Average number of installs per Android app in each genre (as per the \"Genres\" column): \n",
      "\n",
      "Communication :  38456119\n",
      "Adventure;Action & Adventure :  35333333\n",
      "Video Players & Editors :  24947336\n",
      "Social :  23253652\n",
      "Arcade :  22888365\n",
      "Casual :  19569222\n",
      "Puzzle;Action & Adventure :  18366667\n",
      "Photography :  17840110\n",
      "Educational;Action & Adventure :  17016667\n",
      "Productivity :  16787331\n",
      "Racing :  15910646\n",
      "Travel & Local :  14051476\n",
      "Casual;Action & Adventure :  12916667\n",
      "Action :  12603589\n",
      "Strategy :  11199903\n",
      "Tools :  10802461\n",
      "Tools;Education :  10000000\n",
      "Role Playing;Brain Games :  10000000\n",
      "Lifestyle;Pretend Play :  10000000\n",
      "Casual;Music & Video :  10000000\n",
      "Card;Action & Adventure :  10000000\n",
      "Adventure;Education :  10000000\n",
      "News & Magazines :  9549178\n",
      "Music :  9445583\n",
      "Educational;Pretend Play :  9375000\n",
      "Puzzle;Brain Games :  9280667\n",
      "Word :  9094459\n",
      "Racing;Action & Adventure :  8816667\n",
      "Books & Reference :  8767812\n",
      "Puzzle :  8302862\n",
      "Video Players & Editors;Music & Video :  7500000\n",
      "Shopping :  7036877\n",
      "Role Playing;Action & Adventure :  7000000\n",
      "Casual;Pretend Play :  6957143\n",
      "Entertainment;Music & Video :  6413333\n",
      "Action;Action & Adventure :  5888889\n",
      "Entertainment :  5602793\n",
      "Education;Brain Games :  5333333\n",
      "Casual;Creativity :  5333333\n",
      "Role Playing;Pretend Play :  5275000\n",
      "Personalization :  5201483\n",
      "Weather :  5074486\n",
      "Sports;Action & Adventure :  5050000\n",
      "Music;Music & Video :  5050000\n",
      "Video Players & Editors;Creativity :  5000000\n",
      "Adventure :  4922785\n",
      "Simulation;Action & Adventure :  4857143\n",
      "Education;Education :  4759517\n",
      "Board :  4759209\n",
      "Sports :  4596843\n",
      "Educational;Brain Games :  4433333\n",
      "Health & Fitness :  4188822\n",
      "Maps & Navigation :  4056942\n",
      "Entertainment;Creativity :  4000000\n",
      "Role Playing :  3965645\n",
      "Card :  3815462\n",
      "Trivia :  3475713\n",
      "Simulation :  3475484\n",
      "Casino :  3427911\n",
      "Entertainment;Brain Games :  3314286\n",
      "Arcade;Action & Adventure :  3190909\n",
      "Entertainment;Pretend Play :  3000000\n",
      "Board;Action & Adventure :  3000000\n",
      "Education;Creativity :  2875000\n",
      "Entertainment;Action & Adventure :  2333333\n",
      "Educational;Creativity :  2333333\n",
      "Art & Design :  2122851\n",
      "Education;Music & Video :  2033333\n",
      "Food & Drink :  1924898\n",
      "Education;Pretend Play :  1800000\n",
      "Educational;Education :  1737143\n",
      "Business :  1712290\n",
      "Casual;Brain Games :  1425917\n",
      "Lifestyle :  1412998\n",
      "Finance :  1387692\n",
      "House & Home :  1331541\n",
      "Parenting;Music & Video :  1118333\n",
      "Strategy;Creativity :  1000000\n",
      "Strategy;Action & Adventure :  1000000\n",
      "Racing;Pretend Play :  1000000\n",
      "Parenting;Brain Games :  1000000\n",
      "Health & Fitness;Action & Adventure :  1000000\n",
      "Entertainment;Education :  1000000\n",
      "Education;Action & Adventure :  1000000\n",
      "Casual;Education :  1000000\n",
      "Arcade;Pretend Play :  1000000\n",
      "Dating :  854029\n",
      "Comics :  831873\n",
      "Puzzle;Creativity :  750000\n",
      "Auto & Vehicles :  647318\n",
      "Libraries & Demo :  638504\n",
      "Education :  550185\n",
      "Simulation;Pretend Play :  550000\n",
      "Beauty :  513152\n",
      "Strategy;Education :  500000\n",
      "Music & Audio;Music & Video :  500000\n",
      "Communication;Creativity :  500000\n",
      "Art & Design;Pretend Play :  500000\n",
      "Parenting :  467978\n",
      "Parenting;Education :  452857\n",
      "Educational :  411185\n",
      "Board;Brain Games :  407143\n",
      "Art & Design;Creativity :  285000\n",
      "Events :  253542\n",
      "Medical :  120551\n",
      "Travel & Local;Action & Adventure :  100000\n",
      "Puzzle;Education :  100000\n",
      "Lifestyle;Education :  100000\n",
      "Health & Fitness;Education :  100000\n",
      "Art & Design;Action & Adventure :  100000\n",
      "Comics;Creativity :  50000\n",
      "Books & Reference;Education :  1000\n",
      "Simulation;Education :  500\n",
      "Trivia;Education :  100\n"
     ]
    }
   ],
   "source": [
    "# Google Play\n",
    "avg_per_app_in_category = {}\n",
    "for category in android_category_ft:\n",
    "    installs_total = 0 # variable to store the total number of ratings from all apps in the category\n",
    "    len_category = 0 # variable to store the number of apps in the category\n",
    "    for app in android_free:\n",
    "        category_app = app[1]\n",
    "        if category_app == category:\n",
    "            installs_app = app[5]\n",
    "            installs_app = installs_app.replace('+', '') # remove \"+\" signs (we take the min of the range)\n",
    "            installs_app = float(installs_app.replace(',', '')) # remove commas so we can conver to float\n",
    "            installs_total += installs_app\n",
    "            len_category += 1\n",
    "    avg_installs_per_app = round(installs_total / len_category) # average installs per app in the category\n",
    "    avg_per_app_in_category[category] = avg_installs_per_app\n",
    "    \n",
    "print('Average number of installs per Android app in each category (as per the \"Category\" column):', '\\n')\n",
    "display_dict(avg_per_app_in_category)\n",
    "\n",
    "avg_per_app_in_genres = {}\n",
    "for genre in android_genres_ft:\n",
    "    installs_total = 0 # variable to store the total number of ratings from all apps in the genre\n",
    "    len_genre = 0 # variable to store the number of apps in the genre\n",
    "    for app in android_free:\n",
    "        genre_app = app[9]\n",
    "        if genre_app == genre:\n",
    "            installs_app = app[5]\n",
    "            installs_app = installs_app.replace('+', '') # remove \"+\" signs (we take the min of the range)\n",
    "            installs_app = float(installs_app.replace(',', '')) # remove commas so we can conver to float\n",
    "            installs_total += installs_app\n",
    "            len_genre += 1\n",
    "    avg_installs_per_app = round(installs_total / len_genre) # average installs per app in the genre\n",
    "    avg_per_app_in_genres[genre] = avg_installs_per_app\n",
    "\n",
    "print('\\n')\n",
    "print('Average number of installs per Android app in each genre (as per the \"Genres\" column):', '\\n')\n",
    "display_dict(avg_per_app_in_genres)"
   ]
  },
  {
   "cell_type": "markdown",
   "metadata": {},
   "source": [
    "some analysis here"
   ]
  },
  {
   "cell_type": "markdown",
   "metadata": {},
   "source": [
    "## Conclusion"
   ]
  },
  {
   "cell_type": "markdown",
   "metadata": {},
   "source": [
    "some concluding remarks here"
   ]
  }
 ],
 "metadata": {
  "kernelspec": {
   "display_name": "Python 3",
   "language": "python",
   "name": "python3"
  },
  "language_info": {
   "codemirror_mode": {
    "name": "ipython",
    "version": 3
   },
   "file_extension": ".py",
   "mimetype": "text/x-python",
   "name": "python",
   "nbconvert_exporter": "python",
   "pygments_lexer": "ipython3",
   "version": "3.7.4"
  }
 },
 "nbformat": 4,
 "nbformat_minor": 2
}
