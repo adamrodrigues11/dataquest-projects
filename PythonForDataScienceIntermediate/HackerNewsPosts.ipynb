{
 "cells": [
  {
   "cell_type": "markdown",
   "metadata": {},
   "source": [
    "# Exploring Hacker News Posts"
   ]
  },
  {
   "cell_type": "markdown",
   "metadata": {},
   "source": [
    "In this short project, we will analyze data on Hacker News posts collected from September 2015 to Spetember 2016. The primary goal of our analysis is to answer the following questions:\n",
    "\n",
    "1. Do *Ask HN* or *Show HN* post-types receive more comments on average?\n",
    "2. Do posts created at a certain time of day recieve more comments on average?"
   ]
  },
  {
   "cell_type": "markdown",
   "metadata": {},
   "source": [
    "## Open and Explore the Dataset"
   ]
  },
  {
   "cell_type": "markdown",
   "metadata": {},
   "source": [
    "The data used for this project is from a public domain dataset available on Kaggle, [here](https://www.kaggle.com/hacker-news/hacker-news-posts). Below, we will read in the csv file, inspect the header row, and explore the first five rows of the dataset."
   ]
  },
  {
   "cell_type": "code",
   "execution_count": 1,
   "metadata": {},
   "outputs": [],
   "source": [
    "def open_dataset(file_name, header=True):\n",
    "    \"\"\"Opens a csv file found at a relative path file_name and returns it as a list of lists.\n",
    "       If a header row exists, returns a tuple containing the header row and the dataset.\n",
    "       \n",
    "       Parameters:\n",
    "       file_name: non-empty string; the relative path of the csv file.\n",
    "       header: boolean; set to True by default to indicate that the csv file contains a header row\n",
    "       \n",
    "       Returns:\n",
    "       if header is True: tuple of lists\n",
    "       if header is False: list\n",
    "    \"\"\"\n",
    "    opened_file = open(file_name)\n",
    "    from csv import reader\n",
    "    read_file = reader(opened_file)\n",
    "    data = list(read_file)\n",
    "    \n",
    "    if header:\n",
    "        return data[0], data[1:]\n",
    "    else:\n",
    "        return data"
   ]
  },
  {
   "cell_type": "code",
   "execution_count": 2,
   "metadata": {},
   "outputs": [],
   "source": [
    "def explore_data(dataset, start, end, rows_and_columns=False):\n",
    "    \"\"\"Used to visualize a subsection of dataset. Slices dataset and prints the rows in the slice.\n",
    "       There is also an option to print the number of rows and columns in the full dataset.\n",
    "       \n",
    "       Parameters:\n",
    "       dataset: non-empty list of non-empty lists; the input data to be explored, with no header row\n",
    "       start: int >= 0; the index of the first element of the slice\n",
    "       end: int > start; the index of the last element of the slice + 1\n",
    "       rows_and_columns: boolean; optional parameter; if True, explore_data() will also print number of rows and columns in the full dataset\n",
    "       \n",
    "       Returns:\n",
    "       None\n",
    "    \"\"\"\n",
    "    \n",
    "    data_slice = dataset[start:end]\n",
    "    \n",
    "    for row in data_slice:\n",
    "        print(row)\n",
    "        print('\\n')\n",
    "    \n",
    "    if rows_and_columns:\n",
    "        print('Number of rows:', len(dataset))\n",
    "        print('Number of columns:', len(dataset[0]))"
   ]
  },
  {
   "cell_type": "code",
   "execution_count": 3,
   "metadata": {},
   "outputs": [
    {
     "name": "stdout",
     "output_type": "stream",
     "text": [
      "Header:\n",
      "['id', 'title', 'url', 'num_points', 'num_comments', 'author', 'created_at']\n",
      "\n",
      "\n",
      "Dataset:\n",
      "['12579008', 'You have two days to comment if you want stem cells to be classified as your own', 'http://www.regulations.gov/document?D=FDA-2015-D-3719-0018', '1', '0', 'altstar', '9/26/2016 3:26']\n",
      "\n",
      "\n",
      "['12579005', 'SQLAR  the SQLite Archiver', 'https://www.sqlite.org/sqlar/doc/trunk/README.md', '1', '0', 'blacksqr', '9/26/2016 3:24']\n",
      "\n",
      "\n",
      "['12578997', 'What if we just printed a flatscreen television on the side of our boxes?', 'https://medium.com/vanmoof/our-secrets-out-f21c1f03fdc8#.ietxmez43', '1', '0', 'pavel_lishin', '9/26/2016 3:19']\n",
      "\n",
      "\n",
      "['12578989', 'algorithmic music', 'http://cacm.acm.org/magazines/2011/7/109891-algorithmic-composition/fulltext', '1', '0', 'poindontcare', '9/26/2016 3:16']\n",
      "\n",
      "\n",
      "['12578979', 'How the Data Vault Enables the Next-Gen Data Warehouse and Data Lake', 'https://www.talend.com/blog/2016/05/12/talend-and-Â\\x93the-data-vaultÂ\\x94', '1', '0', 'markgainor1', '9/26/2016 3:14']\n",
      "\n",
      "\n",
      "Number of rows: 293119\n",
      "Number of columns: 7\n"
     ]
    }
   ],
   "source": [
    "# open the file\n",
    "hn_header, hn = open_dataset('hacker_news.csv')\n",
    "\n",
    "# inspect the header row\n",
    "print('Header:')\n",
    "print(hn_header)\n",
    "print('\\n')\n",
    "\n",
    "# inspect the first 5 rows of the dataset\n",
    "print('Dataset:')\n",
    "explore_data(hn, 0, 5, rows_and_columns=True)"
   ]
  },
  {
   "cell_type": "markdown",
   "metadata": {},
   "source": [
    "## Analyzing the average number of comments for Ask HN posts versus Show HN posts"
   ]
  },
  {
   "cell_type": "markdown",
   "metadata": {},
   "source": [
    "We will now split the dataset into three separate chunks: *Ask HN* posts, *Show HN* posts, and *Other* posts."
   ]
  },
  {
   "cell_type": "code",
   "execution_count": 4,
   "metadata": {},
   "outputs": [
    {
     "name": "stdout",
     "output_type": "stream",
     "text": [
      "Check that Ask HN + Show HN + Other = total rows in dataset: True\n"
     ]
    }
   ],
   "source": [
    "ask_posts = []\n",
    "show_posts = []\n",
    "other_posts = []\n",
    "\n",
    "for row in hn:\n",
    "    title = row[1]\n",
    "    if title.lower().startswith('ask hn'): # use lower case version of title to avoid case irregularities\n",
    "        ask_posts.append(row)\n",
    "    elif title.lower().startswith('show hn'):\n",
    "        show_posts.append(row)\n",
    "    else:\n",
    "        other_posts.append(row)\n",
    "\n",
    "print('Check that Ask HN + Show HN + Other = total rows in dataset:', \\\n",
    "      len(ask_posts) + len(show_posts) + len(other_posts) == len(hn))"
   ]
  },
  {
   "cell_type": "markdown",
   "metadata": {},
   "source": [
    "Next, we will calculate the average number of comments for *Ask HN* posts, and then *Show HN* posts."
   ]
  },
  {
   "cell_type": "code",
   "execution_count": 5,
   "metadata": {},
   "outputs": [
    {
     "name": "stdout",
     "output_type": "stream",
     "text": [
      "The average number of comments for an Ask Hn post is: 10.4\n"
     ]
    }
   ],
   "source": [
    "# Ask HN\n",
    "total_ask_comments = 0 \n",
    "\n",
    "for row in ask_posts:\n",
    "    num_comments = int(row[4])\n",
    "    total_ask_comments += num_comments\n",
    "\n",
    "total_ask_posts = len(ask_posts)\n",
    "avg_ask_comments = round(total_ask_comments / total_ask_posts, 1)\n",
    "print('The average number of comments for an Ask Hn post is:', avg_ask_comments)"
   ]
  },
  {
   "cell_type": "code",
   "execution_count": 6,
   "metadata": {},
   "outputs": [
    {
     "name": "stdout",
     "output_type": "stream",
     "text": [
      "The average number of comments for an Show Hn post is: 4.9\n"
     ]
    }
   ],
   "source": [
    "# Show HN\n",
    "total_show_comments = 0 \n",
    "\n",
    "for row in show_posts:\n",
    "    num_comments = int(row[4])\n",
    "    total_show_comments += num_comments\n",
    "\n",
    "total_show_posts = len(show_posts)\n",
    "avg_show_comments = round(total_show_comments / total_show_posts, 1)\n",
    "print('The average number of comments for an Show Hn post is:', avg_show_comments)"
   ]
  },
  {
   "cell_type": "markdown",
   "metadata": {},
   "source": [
    "From the results of our code, we can clearly see that *Ask Hn* posts receive, on average, about twice as many comments than *Show HN* posts. Specifically, an *Ask Hn* post receives an average of 10.4 comments, while a *Show HN* post receives an average of 4.9 comments. "
   ]
  },
  {
   "cell_type": "markdown",
   "metadata": {},
   "source": [
    "## Analyzing average number of comments per post based on time of day when posting"
   ]
  },
  {
   "cell_type": "markdown",
   "metadata": {},
   "source": [
    "time zone is Eastern time (US)"
   ]
  },
  {
   "cell_type": "code",
   "execution_count": 26,
   "metadata": {},
   "outputs": [],
   "source": [
    "# import datetime module\n",
    "import datetime as dt"
   ]
  },
  {
   "cell_type": "code",
   "execution_count": 27,
   "metadata": {},
   "outputs": [],
   "source": [
    "# create a subset of the full dataset with only created_at and num_comments columns\n",
    "result_list = []\n",
    "\n",
    "for row in ask_posts:\n",
    "    created_at = row[6]\n",
    "    num_comments = int(row[4])\n",
    "    result = [created_at, num_comments]\n",
    "    result_list.append(result)"
   ]
  },
  {
   "cell_type": "code",
   "execution_count": 29,
   "metadata": {},
   "outputs": [
    {
     "name": "stdout",
     "output_type": "stream",
     "text": [
      "Counts by hour: \n",
      " {'02:00': 269, '01:00': 282, '22:00': 383, '21:00': 518, '19:00': 552, '17:00': 587, '15:00': 646, '14:00': 513, '13:00': 444, '11:00': 312, '10:00': 282, '09:00': 222, '07:00': 226, '03:00': 271, '23:00': 343, '20:00': 510, '16:00': 579, '08:00': 257, '00:00': 301, '18:00': 614, '12:00': 342, '04:00': 243, '06:00': 234, '05:00': 209}\n",
      "\n",
      "\n",
      "Comments by hour: \n",
      " {'02:00': 2996, '01:00': 2089, '22:00': 3372, '21:00': 4500, '19:00': 3954, '17:00': 5547, '15:00': 18525, '14:00': 4972, '13:00': 7245, '11:00': 2797, '10:00': 3013, '09:00': 1477, '07:00': 1585, '03:00': 2154, '23:00': 2297, '20:00': 4462, '16:00': 4466, '08:00': 2362, '00:00': 2277, '18:00': 4877, '12:00': 4234, '04:00': 2360, '06:00': 1587, '05:00': 1838}\n"
     ]
    }
   ],
   "source": [
    "# calculate the number of Ask HN posts created in each hour of the day, and\n",
    "# calculate the aggregate number of comments received by each of those collections of posts (by hour created)\n",
    "counts_by_hour = {}\n",
    "comments_by_hour = {}\n",
    "\n",
    "for row in result_list:\n",
    "    num_comments = row[1] # type is int\n",
    "    created_at = row[0]\n",
    "    created_at_dt = dt.datetime.strptime(created_at, \"%m/%d/%Y %H:%M\") # convert from string to datetime\n",
    "    hour = created_at_dt.strftime(\"%H:00\") # just take the hour and format as string\n",
    "    \n",
    "    # populate the dictionaries with the hours as keys\n",
    "    if hour not in counts_by_hour:\n",
    "        counts_by_hour[hour] = 1\n",
    "        comments_by_hour[hour] = num_comments\n",
    "    else:\n",
    "        counts_by_hour[hour] += 1\n",
    "        comments_by_hour[hour] += num_comments\n",
    "        \n",
    "print('Counts by hour:', '\\n', counts_by_hour)\n",
    "print('\\n')\n",
    "print('Comments by hour:', '\\n', comments_by_hour)"
   ]
  },
  {
   "cell_type": "code",
   "execution_count": 39,
   "metadata": {},
   "outputs": [
    {
     "name": "stdout",
     "output_type": "stream",
     "text": [
      "Top 5 Hours for Ask Posts Comments:\n",
      "15:00: 28.68 average comments per post\n",
      "13:00: 16.32 average comments per post\n",
      "12:00: 12.38 average comments per post\n",
      "02:00: 11.14 average comments per post\n",
      "10:00: 10.68 average comments per post\n"
     ]
    }
   ],
   "source": [
    "# calculate average number of comments per post by hour\n",
    "avg_by_hour = {}\n",
    "\n",
    "for hour in counts_by_hour:\n",
    "    avg = comments_by_hour[hour] / counts_by_hour[hour]\n",
    "    avg_by_hour[hour] = avg\n",
    "\n",
    "# build a list of hours in descending order of avg comments per post\n",
    "hour_sorted = sorted(avg_by_hour, key=avg_by_hour.get, reverse=True)\n",
    "\n",
    "# print the top 5 hours for average number of comments per post\n",
    "print('Top 5 Hours for Ask Posts Comments:')\n",
    "for index in range(5):\n",
    "    hour = hour_sorted[index]\n",
    "    avg = avg_by_hour[hour]\n",
    "    template = '{hour}: {avg:.2f} average comments per post'\n",
    "    output = template.format(hour=hour, avg=avg)\n",
    "    print(output)"
   ]
  }
 ],
 "metadata": {
  "kernelspec": {
   "display_name": "Python 3",
   "language": "python",
   "name": "python3"
  },
  "language_info": {
   "codemirror_mode": {
    "name": "ipython",
    "version": 3
   },
   "file_extension": ".py",
   "mimetype": "text/x-python",
   "name": "python",
   "nbconvert_exporter": "python",
   "pygments_lexer": "ipython3",
   "version": "3.7.4"
  }
 },
 "nbformat": 4,
 "nbformat_minor": 2
}
